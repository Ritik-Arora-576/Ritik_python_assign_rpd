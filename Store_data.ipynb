{
  "nbformat": 4,
  "nbformat_minor": 0,
  "metadata": {
    "colab": {
      "name": "Store_data.ipynb",
      "provenance": [],
      "collapsed_sections": []
    },
    "kernelspec": {
      "name": "python3",
      "display_name": "Python 3"
    },
    "language_info": {
      "name": "python"
    },
    "accelerator": "GPU"
  },
  "cells": [
    {
      "cell_type": "code",
      "metadata": {
        "id": "W7ucQyP0isus"
      },
      "source": [
        "# import libraries\n",
        "import pandas as pd\n",
        "import matplotlib.pyplot as plt\n",
        "import seaborn\n",
        "import MySQLdb\n",
        "import csv"
      ],
      "execution_count": 9,
      "outputs": []
    },
    {
      "cell_type": "markdown",
      "metadata": {
        "id": "bexK16dbAsmh"
      },
      "source": [
        "## Read CSV file"
      ]
    },
    {
      "cell_type": "code",
      "metadata": {
        "id": "mzlzbqBJjOE_"
      },
      "source": [
        "# extract and store data into df into tabular format\n",
        "df=pd.read_csv('data.csv')"
      ],
      "execution_count": 10,
      "outputs": []
    },
    {
      "cell_type": "code",
      "metadata": {
        "id": "MrN-Mmhfkipm",
        "colab": {
          "base_uri": "https://localhost:8080/",
          "height": 417
        },
        "outputId": "7364738a-1f85-4046-f90b-7a563f2237e4"
      },
      "source": [
        "# print data\n",
        "df"
      ],
      "execution_count": 11,
      "outputs": [
        {
          "output_type": "execute_result",
          "data": {
            "text/html": [
              "<div>\n",
              "<style scoped>\n",
              "    .dataframe tbody tr th:only-of-type {\n",
              "        vertical-align: middle;\n",
              "    }\n",
              "\n",
              "    .dataframe tbody tr th {\n",
              "        vertical-align: top;\n",
              "    }\n",
              "\n",
              "    .dataframe thead th {\n",
              "        text-align: right;\n",
              "    }\n",
              "</style>\n",
              "<table border=\"1\" class=\"dataframe\">\n",
              "  <thead>\n",
              "    <tr style=\"text-align: right;\">\n",
              "      <th></th>\n",
              "      <th>Date</th>\n",
              "      <th>High Price</th>\n",
              "      <th>Low Price</th>\n",
              "      <th>Close Price</th>\n",
              "      <th>Total Traded Quantity</th>\n",
              "      <th>Turnover (in lacs)</th>\n",
              "      <th>No. of Contracts</th>\n",
              "    </tr>\n",
              "  </thead>\n",
              "  <tbody>\n",
              "    <tr>\n",
              "      <th>0</th>\n",
              "      <td>01-Jan-2021</td>\n",
              "      <td>1443.00</td>\n",
              "      <td>1420.60</td>\n",
              "      <td>1425.05</td>\n",
              "      <td>4405469</td>\n",
              "      <td>63155.33422</td>\n",
              "      <td>24302</td>\n",
              "    </tr>\n",
              "    <tr>\n",
              "      <th>1</th>\n",
              "      <td>04-Jan-2021</td>\n",
              "      <td>1438.00</td>\n",
              "      <td>1399.00</td>\n",
              "      <td>1416.00</td>\n",
              "      <td>7870096</td>\n",
              "      <td>111534.73280</td>\n",
              "      <td>40233</td>\n",
              "    </tr>\n",
              "    <tr>\n",
              "      <th>2</th>\n",
              "      <td>05-Jan-2021</td>\n",
              "      <td>1430.75</td>\n",
              "      <td>1409.00</td>\n",
              "      <td>1426.70</td>\n",
              "      <td>7193412</td>\n",
              "      <td>102141.60600</td>\n",
              "      <td>49022</td>\n",
              "    </tr>\n",
              "    <tr>\n",
              "      <th>3</th>\n",
              "      <td>06-Jan-2021</td>\n",
              "      <td>1440.00</td>\n",
              "      <td>1413.10</td>\n",
              "      <td>1420.55</td>\n",
              "      <td>11067025</td>\n",
              "      <td>157545.11010</td>\n",
              "      <td>62408</td>\n",
              "    </tr>\n",
              "    <tr>\n",
              "      <th>4</th>\n",
              "      <td>07-Jan-2021</td>\n",
              "      <td>1432.60</td>\n",
              "      <td>1412.55</td>\n",
              "      <td>1416.25</td>\n",
              "      <td>9947421</td>\n",
              "      <td>141486.23310</td>\n",
              "      <td>47083</td>\n",
              "    </tr>\n",
              "    <tr>\n",
              "      <th>...</th>\n",
              "      <td>...</td>\n",
              "      <td>...</td>\n",
              "      <td>...</td>\n",
              "      <td>...</td>\n",
              "      <td>...</td>\n",
              "      <td>...</td>\n",
              "      <td>...</td>\n",
              "    </tr>\n",
              "    <tr>\n",
              "      <th>176</th>\n",
              "      <td>20-Sep-2021</td>\n",
              "      <td>1581.70</td>\n",
              "      <td>1558.00</td>\n",
              "      <td>1559.85</td>\n",
              "      <td>4390805</td>\n",
              "      <td>68894.37483</td>\n",
              "      <td>99026</td>\n",
              "    </tr>\n",
              "    <tr>\n",
              "      <th>177</th>\n",
              "      <td>21-Sep-2021</td>\n",
              "      <td>1568.65</td>\n",
              "      <td>1528.95</td>\n",
              "      <td>1551.95</td>\n",
              "      <td>7387498</td>\n",
              "      <td>114102.02960</td>\n",
              "      <td>106161</td>\n",
              "    </tr>\n",
              "    <tr>\n",
              "      <th>178</th>\n",
              "      <td>22-Sep-2021</td>\n",
              "      <td>1550.15</td>\n",
              "      <td>1530.00</td>\n",
              "      <td>1533.70</td>\n",
              "      <td>5291101</td>\n",
              "      <td>81323.32796</td>\n",
              "      <td>86021</td>\n",
              "    </tr>\n",
              "    <tr>\n",
              "      <th>179</th>\n",
              "      <td>23-Sep-2021</td>\n",
              "      <td>1572.00</td>\n",
              "      <td>1542.00</td>\n",
              "      <td>1570.00</td>\n",
              "      <td>6832152</td>\n",
              "      <td>106667.87040</td>\n",
              "      <td>136784</td>\n",
              "    </tr>\n",
              "    <tr>\n",
              "      <th>180</th>\n",
              "      <td>24-Sep-2021</td>\n",
              "      <td>1607.95</td>\n",
              "      <td>1575.00</td>\n",
              "      <td>1601.55</td>\n",
              "      <td>10403351</td>\n",
              "      <td>165728.94840</td>\n",
              "      <td>275427</td>\n",
              "    </tr>\n",
              "  </tbody>\n",
              "</table>\n",
              "<p>181 rows × 7 columns</p>\n",
              "</div>"
            ],
            "text/plain": [
              "            Date  High Price  ...  Turnover (in lacs)  No. of Contracts\n",
              "0    01-Jan-2021     1443.00  ...         63155.33422             24302\n",
              "1    04-Jan-2021     1438.00  ...        111534.73280             40233\n",
              "2    05-Jan-2021     1430.75  ...        102141.60600             49022\n",
              "3    06-Jan-2021     1440.00  ...        157545.11010             62408\n",
              "4    07-Jan-2021     1432.60  ...        141486.23310             47083\n",
              "..           ...         ...  ...                 ...               ...\n",
              "176  20-Sep-2021     1581.70  ...         68894.37483             99026\n",
              "177  21-Sep-2021     1568.65  ...        114102.02960            106161\n",
              "178  22-Sep-2021     1550.15  ...         81323.32796             86021\n",
              "179  23-Sep-2021     1572.00  ...        106667.87040            136784\n",
              "180  24-Sep-2021     1607.95  ...        165728.94840            275427\n",
              "\n",
              "[181 rows x 7 columns]"
            ]
          },
          "metadata": {},
          "execution_count": 11
        }
      ]
    },
    {
      "cell_type": "markdown",
      "metadata": {
        "id": "PXUyha8jA4MY"
      },
      "source": [
        "## Rename the columns"
      ]
    },
    {
      "cell_type": "code",
      "metadata": {
        "id": "aB6rsy7jldU0"
      },
      "source": [
        "# define the dictionary 'conversion' which is used to rename the columns of the table\n",
        "conversion={'Date':'date','High Price':'high','Low Price':'low',\n",
        "            'Total Traded Quantity':'trade','Turnover (in lacs)':' turnover_in_lakhs'\n",
        "            ,'No. of Contracts':'contracts'}\n",
        "\n",
        "# iterate the columns\n",
        "list=[]\n",
        "for column in df.columns:\n",
        "  # if key present in dictionary then store its value in list otherwise store its original name\n",
        "  if column in conversion:\n",
        "    list.append(conversion[column])\n",
        "  else:\n",
        "    list.append(column)\n",
        "\n",
        "# assign new names of column\n",
        "df.columns=list"
      ],
      "execution_count": 12,
      "outputs": []
    },
    {
      "cell_type": "code",
      "metadata": {
        "id": "eK8rFhWSnzE_",
        "colab": {
          "base_uri": "https://localhost:8080/",
          "height": 417
        },
        "outputId": "9f195be8-fa96-4df6-9b75-916f31cd17e7"
      },
      "source": [
        "# analyze the table\n",
        "df"
      ],
      "execution_count": 13,
      "outputs": [
        {
          "output_type": "execute_result",
          "data": {
            "text/html": [
              "<div>\n",
              "<style scoped>\n",
              "    .dataframe tbody tr th:only-of-type {\n",
              "        vertical-align: middle;\n",
              "    }\n",
              "\n",
              "    .dataframe tbody tr th {\n",
              "        vertical-align: top;\n",
              "    }\n",
              "\n",
              "    .dataframe thead th {\n",
              "        text-align: right;\n",
              "    }\n",
              "</style>\n",
              "<table border=\"1\" class=\"dataframe\">\n",
              "  <thead>\n",
              "    <tr style=\"text-align: right;\">\n",
              "      <th></th>\n",
              "      <th>date</th>\n",
              "      <th>high</th>\n",
              "      <th>low</th>\n",
              "      <th>Close Price</th>\n",
              "      <th>trade</th>\n",
              "      <th>turnover_in_lakhs</th>\n",
              "      <th>contracts</th>\n",
              "    </tr>\n",
              "  </thead>\n",
              "  <tbody>\n",
              "    <tr>\n",
              "      <th>0</th>\n",
              "      <td>01-Jan-2021</td>\n",
              "      <td>1443.00</td>\n",
              "      <td>1420.60</td>\n",
              "      <td>1425.05</td>\n",
              "      <td>4405469</td>\n",
              "      <td>63155.33422</td>\n",
              "      <td>24302</td>\n",
              "    </tr>\n",
              "    <tr>\n",
              "      <th>1</th>\n",
              "      <td>04-Jan-2021</td>\n",
              "      <td>1438.00</td>\n",
              "      <td>1399.00</td>\n",
              "      <td>1416.00</td>\n",
              "      <td>7870096</td>\n",
              "      <td>111534.73280</td>\n",
              "      <td>40233</td>\n",
              "    </tr>\n",
              "    <tr>\n",
              "      <th>2</th>\n",
              "      <td>05-Jan-2021</td>\n",
              "      <td>1430.75</td>\n",
              "      <td>1409.00</td>\n",
              "      <td>1426.70</td>\n",
              "      <td>7193412</td>\n",
              "      <td>102141.60600</td>\n",
              "      <td>49022</td>\n",
              "    </tr>\n",
              "    <tr>\n",
              "      <th>3</th>\n",
              "      <td>06-Jan-2021</td>\n",
              "      <td>1440.00</td>\n",
              "      <td>1413.10</td>\n",
              "      <td>1420.55</td>\n",
              "      <td>11067025</td>\n",
              "      <td>157545.11010</td>\n",
              "      <td>62408</td>\n",
              "    </tr>\n",
              "    <tr>\n",
              "      <th>4</th>\n",
              "      <td>07-Jan-2021</td>\n",
              "      <td>1432.60</td>\n",
              "      <td>1412.55</td>\n",
              "      <td>1416.25</td>\n",
              "      <td>9947421</td>\n",
              "      <td>141486.23310</td>\n",
              "      <td>47083</td>\n",
              "    </tr>\n",
              "    <tr>\n",
              "      <th>...</th>\n",
              "      <td>...</td>\n",
              "      <td>...</td>\n",
              "      <td>...</td>\n",
              "      <td>...</td>\n",
              "      <td>...</td>\n",
              "      <td>...</td>\n",
              "      <td>...</td>\n",
              "    </tr>\n",
              "    <tr>\n",
              "      <th>176</th>\n",
              "      <td>20-Sep-2021</td>\n",
              "      <td>1581.70</td>\n",
              "      <td>1558.00</td>\n",
              "      <td>1559.85</td>\n",
              "      <td>4390805</td>\n",
              "      <td>68894.37483</td>\n",
              "      <td>99026</td>\n",
              "    </tr>\n",
              "    <tr>\n",
              "      <th>177</th>\n",
              "      <td>21-Sep-2021</td>\n",
              "      <td>1568.65</td>\n",
              "      <td>1528.95</td>\n",
              "      <td>1551.95</td>\n",
              "      <td>7387498</td>\n",
              "      <td>114102.02960</td>\n",
              "      <td>106161</td>\n",
              "    </tr>\n",
              "    <tr>\n",
              "      <th>178</th>\n",
              "      <td>22-Sep-2021</td>\n",
              "      <td>1550.15</td>\n",
              "      <td>1530.00</td>\n",
              "      <td>1533.70</td>\n",
              "      <td>5291101</td>\n",
              "      <td>81323.32796</td>\n",
              "      <td>86021</td>\n",
              "    </tr>\n",
              "    <tr>\n",
              "      <th>179</th>\n",
              "      <td>23-Sep-2021</td>\n",
              "      <td>1572.00</td>\n",
              "      <td>1542.00</td>\n",
              "      <td>1570.00</td>\n",
              "      <td>6832152</td>\n",
              "      <td>106667.87040</td>\n",
              "      <td>136784</td>\n",
              "    </tr>\n",
              "    <tr>\n",
              "      <th>180</th>\n",
              "      <td>24-Sep-2021</td>\n",
              "      <td>1607.95</td>\n",
              "      <td>1575.00</td>\n",
              "      <td>1601.55</td>\n",
              "      <td>10403351</td>\n",
              "      <td>165728.94840</td>\n",
              "      <td>275427</td>\n",
              "    </tr>\n",
              "  </tbody>\n",
              "</table>\n",
              "<p>181 rows × 7 columns</p>\n",
              "</div>"
            ],
            "text/plain": [
              "            date     high      low  ...     trade   turnover_in_lakhs  contracts\n",
              "0    01-Jan-2021  1443.00  1420.60  ...   4405469         63155.33422      24302\n",
              "1    04-Jan-2021  1438.00  1399.00  ...   7870096        111534.73280      40233\n",
              "2    05-Jan-2021  1430.75  1409.00  ...   7193412        102141.60600      49022\n",
              "3    06-Jan-2021  1440.00  1413.10  ...  11067025        157545.11010      62408\n",
              "4    07-Jan-2021  1432.60  1412.55  ...   9947421        141486.23310      47083\n",
              "..           ...      ...      ...  ...       ...                 ...        ...\n",
              "176  20-Sep-2021  1581.70  1558.00  ...   4390805         68894.37483      99026\n",
              "177  21-Sep-2021  1568.65  1528.95  ...   7387498        114102.02960     106161\n",
              "178  22-Sep-2021  1550.15  1530.00  ...   5291101         81323.32796      86021\n",
              "179  23-Sep-2021  1572.00  1542.00  ...   6832152        106667.87040     136784\n",
              "180  24-Sep-2021  1607.95  1575.00  ...  10403351        165728.94840     275427\n",
              "\n",
              "[181 rows x 7 columns]"
            ]
          },
          "metadata": {},
          "execution_count": 13
        }
      ]
    },
    {
      "cell_type": "markdown",
      "metadata": {
        "id": "_zc4Ynk-BIHw"
      },
      "source": [
        "## Add 'difference' column"
      ]
    },
    {
      "cell_type": "code",
      "metadata": {
        "id": "Inm55XJfpAH6"
      },
      "source": [
        "# initialize the empty list which is used to store the difference\n",
        "list=[]\n",
        "\n",
        "# store the values by iterating the row\n",
        "for i in range(len(df)):\n",
        "  list.append(df['high'][i]-df['low'][i])\n",
        "\n",
        "# adding up the column 'difference' in the dataframe\n",
        "df['difference']=list"
      ],
      "execution_count": 14,
      "outputs": []
    },
    {
      "cell_type": "code",
      "metadata": {
        "colab": {
          "base_uri": "https://localhost:8080/",
          "height": 417
        },
        "id": "_3bBWXqcpoSO",
        "outputId": "a8dc4e7f-135a-4e86-ad78-67bc66fafb89"
      },
      "source": [
        "# analyze the data\n",
        "df"
      ],
      "execution_count": 15,
      "outputs": [
        {
          "output_type": "execute_result",
          "data": {
            "text/html": [
              "<div>\n",
              "<style scoped>\n",
              "    .dataframe tbody tr th:only-of-type {\n",
              "        vertical-align: middle;\n",
              "    }\n",
              "\n",
              "    .dataframe tbody tr th {\n",
              "        vertical-align: top;\n",
              "    }\n",
              "\n",
              "    .dataframe thead th {\n",
              "        text-align: right;\n",
              "    }\n",
              "</style>\n",
              "<table border=\"1\" class=\"dataframe\">\n",
              "  <thead>\n",
              "    <tr style=\"text-align: right;\">\n",
              "      <th></th>\n",
              "      <th>date</th>\n",
              "      <th>high</th>\n",
              "      <th>low</th>\n",
              "      <th>Close Price</th>\n",
              "      <th>trade</th>\n",
              "      <th>turnover_in_lakhs</th>\n",
              "      <th>contracts</th>\n",
              "      <th>difference</th>\n",
              "    </tr>\n",
              "  </thead>\n",
              "  <tbody>\n",
              "    <tr>\n",
              "      <th>0</th>\n",
              "      <td>01-Jan-2021</td>\n",
              "      <td>1443.00</td>\n",
              "      <td>1420.60</td>\n",
              "      <td>1425.05</td>\n",
              "      <td>4405469</td>\n",
              "      <td>63155.33422</td>\n",
              "      <td>24302</td>\n",
              "      <td>22.40</td>\n",
              "    </tr>\n",
              "    <tr>\n",
              "      <th>1</th>\n",
              "      <td>04-Jan-2021</td>\n",
              "      <td>1438.00</td>\n",
              "      <td>1399.00</td>\n",
              "      <td>1416.00</td>\n",
              "      <td>7870096</td>\n",
              "      <td>111534.73280</td>\n",
              "      <td>40233</td>\n",
              "      <td>39.00</td>\n",
              "    </tr>\n",
              "    <tr>\n",
              "      <th>2</th>\n",
              "      <td>05-Jan-2021</td>\n",
              "      <td>1430.75</td>\n",
              "      <td>1409.00</td>\n",
              "      <td>1426.70</td>\n",
              "      <td>7193412</td>\n",
              "      <td>102141.60600</td>\n",
              "      <td>49022</td>\n",
              "      <td>21.75</td>\n",
              "    </tr>\n",
              "    <tr>\n",
              "      <th>3</th>\n",
              "      <td>06-Jan-2021</td>\n",
              "      <td>1440.00</td>\n",
              "      <td>1413.10</td>\n",
              "      <td>1420.55</td>\n",
              "      <td>11067025</td>\n",
              "      <td>157545.11010</td>\n",
              "      <td>62408</td>\n",
              "      <td>26.90</td>\n",
              "    </tr>\n",
              "    <tr>\n",
              "      <th>4</th>\n",
              "      <td>07-Jan-2021</td>\n",
              "      <td>1432.60</td>\n",
              "      <td>1412.55</td>\n",
              "      <td>1416.25</td>\n",
              "      <td>9947421</td>\n",
              "      <td>141486.23310</td>\n",
              "      <td>47083</td>\n",
              "      <td>20.05</td>\n",
              "    </tr>\n",
              "    <tr>\n",
              "      <th>...</th>\n",
              "      <td>...</td>\n",
              "      <td>...</td>\n",
              "      <td>...</td>\n",
              "      <td>...</td>\n",
              "      <td>...</td>\n",
              "      <td>...</td>\n",
              "      <td>...</td>\n",
              "      <td>...</td>\n",
              "    </tr>\n",
              "    <tr>\n",
              "      <th>176</th>\n",
              "      <td>20-Sep-2021</td>\n",
              "      <td>1581.70</td>\n",
              "      <td>1558.00</td>\n",
              "      <td>1559.85</td>\n",
              "      <td>4390805</td>\n",
              "      <td>68894.37483</td>\n",
              "      <td>99026</td>\n",
              "      <td>23.70</td>\n",
              "    </tr>\n",
              "    <tr>\n",
              "      <th>177</th>\n",
              "      <td>21-Sep-2021</td>\n",
              "      <td>1568.65</td>\n",
              "      <td>1528.95</td>\n",
              "      <td>1551.95</td>\n",
              "      <td>7387498</td>\n",
              "      <td>114102.02960</td>\n",
              "      <td>106161</td>\n",
              "      <td>39.70</td>\n",
              "    </tr>\n",
              "    <tr>\n",
              "      <th>178</th>\n",
              "      <td>22-Sep-2021</td>\n",
              "      <td>1550.15</td>\n",
              "      <td>1530.00</td>\n",
              "      <td>1533.70</td>\n",
              "      <td>5291101</td>\n",
              "      <td>81323.32796</td>\n",
              "      <td>86021</td>\n",
              "      <td>20.15</td>\n",
              "    </tr>\n",
              "    <tr>\n",
              "      <th>179</th>\n",
              "      <td>23-Sep-2021</td>\n",
              "      <td>1572.00</td>\n",
              "      <td>1542.00</td>\n",
              "      <td>1570.00</td>\n",
              "      <td>6832152</td>\n",
              "      <td>106667.87040</td>\n",
              "      <td>136784</td>\n",
              "      <td>30.00</td>\n",
              "    </tr>\n",
              "    <tr>\n",
              "      <th>180</th>\n",
              "      <td>24-Sep-2021</td>\n",
              "      <td>1607.95</td>\n",
              "      <td>1575.00</td>\n",
              "      <td>1601.55</td>\n",
              "      <td>10403351</td>\n",
              "      <td>165728.94840</td>\n",
              "      <td>275427</td>\n",
              "      <td>32.95</td>\n",
              "    </tr>\n",
              "  </tbody>\n",
              "</table>\n",
              "<p>181 rows × 8 columns</p>\n",
              "</div>"
            ],
            "text/plain": [
              "            date     high      low  ...   turnover_in_lakhs  contracts  difference\n",
              "0    01-Jan-2021  1443.00  1420.60  ...         63155.33422      24302       22.40\n",
              "1    04-Jan-2021  1438.00  1399.00  ...        111534.73280      40233       39.00\n",
              "2    05-Jan-2021  1430.75  1409.00  ...        102141.60600      49022       21.75\n",
              "3    06-Jan-2021  1440.00  1413.10  ...        157545.11010      62408       26.90\n",
              "4    07-Jan-2021  1432.60  1412.55  ...        141486.23310      47083       20.05\n",
              "..           ...      ...      ...  ...                 ...        ...         ...\n",
              "176  20-Sep-2021  1581.70  1558.00  ...         68894.37483      99026       23.70\n",
              "177  21-Sep-2021  1568.65  1528.95  ...        114102.02960     106161       39.70\n",
              "178  22-Sep-2021  1550.15  1530.00  ...         81323.32796      86021       20.15\n",
              "179  23-Sep-2021  1572.00  1542.00  ...        106667.87040     136784       30.00\n",
              "180  24-Sep-2021  1607.95  1575.00  ...        165728.94840     275427       32.95\n",
              "\n",
              "[181 rows x 8 columns]"
            ]
          },
          "metadata": {},
          "execution_count": 15
        }
      ]
    },
    {
      "cell_type": "markdown",
      "metadata": {
        "id": "bcH2lFN5BV3Y"
      },
      "source": [
        "## Save the processed_data.csv"
      ]
    },
    {
      "cell_type": "code",
      "metadata": {
        "id": "e3IvtYF2qFUc"
      },
      "source": [
        "# saving up the data into csv format\n",
        "df.to_csv('processed_data.csv',index=False)"
      ],
      "execution_count": 16,
      "outputs": []
    },
    {
      "cell_type": "markdown",
      "metadata": {
        "id": "uNkQYFN1Bh8K"
      },
      "source": [
        "## Make correlation matrix\n",
        "- This matrix is simply represents correlation between the columns with each other. In the correlation matrix given below as you can see how 'high' and 'Cost Price' are highly dependent on each other which means on increasing the value of 'high' 'Cost Price' will also be increases. While on the other hand if we see correlation between 'high' and 'contracts' so it is lessly correlated with each other which means Number of contracts are not dependent on high price."
      ]
    },
    {
      "cell_type": "code",
      "metadata": {
        "id": "tFl1vpyxqYc-",
        "colab": {
          "base_uri": "https://localhost:8080/",
          "height": 580
        },
        "outputId": "8a936b97-53a3-47d3-8461-86158ec576bb"
      },
      "source": [
        "# creating a correlation matrix\n",
        "plt.figure(figsize=(10,8))\n",
        "plt.title('Correlation matrix')\n",
        "data_plot= seaborn.heatmap(df.corr(),annot=True)\n",
        "plt.show()"
      ],
      "execution_count": 17,
      "outputs": [
        {
          "output_type": "display_data",
          "data": {
            "image/png": "[encoded data removed]",
            "text/plain": [
              "<Figure size 720x576 with 2 Axes>"
            ]
          },
          "metadata": {
            "needs_background": "light"
          }
        }
      ]
    },
    {
      "cell_type": "markdown",
      "metadata": {
        "id": "FKIiUkALBpK_"
      },
      "source": [
        "## Upload processed_data.csv into MySql database"
      ]
    },
    {
      "cell_type": "code",
      "metadata": {
        "id": "mBt8I2GjqqPb"
      },
      "source": [
        "# connecting with database\n",
        "mydb=MySQLdb.connect(host=\"127.0.0.1\",user=\"root\",password=\"111PythonFinTest###\",database=\"python_fin_test\")\n",
        "cursor=mydb.cursor()"
      ],
      "execution_count": null,
      "outputs": []
    },
    {
      "cell_type": "code",
      "metadata": {
        "id": "SzP48OJS49Kc"
      },
      "source": [
        "# empty list to store all the values\n",
        "all_values=[]\n",
        "# open the csv file\n",
        "with open('processed_data.csv') as file:\n",
        "    # read the file\n",
        "    csvfile=csv.reader(file,delimiter=',')\n",
        "    # enumerate is used to get elements as well as iteration number\n",
        "    for i,row in enumerate(csvfile):\n",
        "        if i!=0:\n",
        "            list=[]\n",
        "            for data in row:\n",
        "              list.append(data)\n",
        "            # append the values in tupple format\n",
        "            all_values.append(tuple(list))"
      ],
      "execution_count": null,
      "outputs": []
    },
    {
      "cell_type": "code",
      "metadata": {
        "id": "88ztwclIAdoO"
      },
      "source": [
        "# push all the values into database\n",
        "queries='insert into processed_data values(%s,%s,%s,%s,%s,%s,%s,%s)'\n",
        "for row in all_values:\n",
        "    cursor.execute(queries,row)\n",
        "# commit the data\n",
        "mydb.commit()\n",
        "#close the cursor\n",
        "cursor.close()"
      ],
      "execution_count": null,
      "outputs": []
    }
  ]
}